{
  "nbformat": 4,
  "nbformat_minor": 0,
  "metadata": {
    "colab": {
      "provenance": []
    },
    "kernelspec": {
      "name": "python3",
      "display_name": "Python 3"
    },
    "language_info": {
      "name": "python"
    }
  },
  "cells": [
    {
      "cell_type": "code",
      "execution_count": 1,
      "metadata": {
        "colab": {
          "base_uri": "https://localhost:8080/",
          "height": 35
        },
        "collapsed": true,
        "id": "037weyv8FZZq",
        "outputId": "509025fc-80ce-4dbf-d7b1-2d322aeb6952"
      },
      "outputs": [
        {
          "output_type": "execute_result",
          "data": {
            "text/plain": [
              "'\\n    Atividade introdutória em python\\n\\n👨\\u200d💻 Autor: CLEITON HENTGES\\n📅 Data: [27/08/2025]\\n💻 Linguagem: Python 3.x\\n'"
            ],
            "application/vnd.google.colaboratory.intrinsic+json": {
              "type": "string"
            }
          },
          "metadata": {},
          "execution_count": 1
        }
      ],
      "source": [
        "\"\"\"\n",
        "    Atividade introdutória em python\n",
        "\n",
        "👨‍💻 Autor: CLEITON HENTGES\n",
        "📅 Data: [27/08/2025]\n",
        "💻 Linguagem: Python 3.x\n",
        "\"\"\""
      ]
    },
    {
      "cell_type": "code",
      "source": [
        "# COMENTARIOS SÃO FEITOS COM # E PARA CABEÇALHOS SE USAM 3 ASPAS (\"\"\")"
      ],
      "metadata": {
        "id": "SjLIeZoIGNsA"
      },
      "execution_count": 2,
      "outputs": []
    },
    {
      "cell_type": "code",
      "source": [
        "# BOAS PRATICAS INICIAS SÃO:\n",
        "\n",
        " #1. NÃO COMENTAR CÓDIGOS ERRADOS\n",
        " #2. NÃO COMENTAR CÓDIGOS TESTES"
      ],
      "metadata": {
        "id": "QvqRSC7kGknz"
      },
      "execution_count": 3,
      "outputs": []
    },
    {
      "cell_type": "code",
      "source": [
        "# Operadores aritméticos\n",
        "\n",
        "#Adição\n",
        "Adição = 10 + 2\n",
        "\n",
        "#Subtração\n",
        "Subtração = 10 - 2\n",
        "\n",
        "#Multiplicação\n",
        "Multiplicação = 10 * 2\n",
        "\n",
        "#Divisão\n",
        "Divisão = 10 / 2\n",
        "\n",
        "#Resto da divisão\n",
        "Resto_da_divisão = 10 % 3\n",
        "\n",
        "#Potenciação\n",
        "Potenciação = 10 ** 2\n",
        "\n",
        "print(Adição)\n",
        "print(Subtração)\n",
        "print(Multiplicação)\n",
        "print(Divisão)\n",
        "print(Resto_da_divisão)\n",
        "print(Potenciação)"
      ],
      "metadata": {
        "colab": {
          "base_uri": "https://localhost:8080/"
        },
        "id": "EGoVYJBKHW8U",
        "outputId": "87832708-ec3f-429c-e84a-2701cddae2c1"
      },
      "execution_count": 4,
      "outputs": [
        {
          "output_type": "stream",
          "name": "stdout",
          "text": [
            "12\n",
            "8\n",
            "20\n",
            "5.0\n",
            "1\n",
            "100\n"
          ]
        }
      ]
    },
    {
      "cell_type": "code",
      "source": [
        "# Operadores Relacionais\n",
        "\n",
        "# Menor\n",
        "A = 10 < 2\n",
        "# Menor ou igual\n",
        "B = 10 <= 2\n",
        "# Maior\n",
        "C = 10 < 2\n",
        "# Maior ou igual\n",
        "D = 10 >= 2\n",
        "# Igual\n",
        "E = 7 == 7\n",
        "# Diferente\n",
        "F= 7 != 7\n",
        "\n",
        "print(A,\"\\n\", B, \"\\n\", C, \"\\n\", D, \"\\n\", E, \"\\n\", F,\"\\n\")"
      ],
      "metadata": {
        "colab": {
          "base_uri": "https://localhost:8080/"
        },
        "id": "i3KFndAwLU4h",
        "outputId": "f5f8b6a4-446a-4a8d-dd2a-22c7f8100ee8"
      },
      "execution_count": 5,
      "outputs": [
        {
          "output_type": "stream",
          "name": "stdout",
          "text": [
            "False \n",
            " False \n",
            " False \n",
            " True \n",
            " True \n",
            " False \n",
            "\n"
          ]
        }
      ]
    },
    {
      "cell_type": "code",
      "source": [
        "# Operadores Lógicos\n",
        "# And\n",
        "# Or\n",
        "# Not"
      ],
      "metadata": {
        "id": "1pzINcZRLhnk"
      },
      "execution_count": 6,
      "outputs": []
    },
    {
      "cell_type": "code",
      "source": [
        "print(10 > 2 and 4 < 6) # V and V = V\n",
        "print(10 > 2 and 4 > 6) # V and F = F\n",
        "print(10 < 2 and 4 > 6) # F and V = F\n",
        "print(10 < 2 and 4 < 6) # F and F = F\n"
      ],
      "metadata": {
        "colab": {
          "base_uri": "https://localhost:8080/"
        },
        "id": "W1mYozpjL-oc",
        "outputId": "311937f3-2013-42d3-e585-265f67226f3b"
      },
      "execution_count": 7,
      "outputs": [
        {
          "output_type": "stream",
          "name": "stdout",
          "text": [
            "True\n",
            "False\n",
            "False\n",
            "False\n"
          ]
        }
      ]
    },
    {
      "cell_type": "code",
      "source": [
        "print(10 > 2 or 4 < 6) # V or V = V\n",
        "print(10 > 2 or 4 > 6) # V or F = V\n",
        "print(10 < 2 or 4 > 6) # F or V = V\n",
        "print(10 < 2 or 4 < 6) # F or F = F\n"
      ],
      "metadata": {
        "colab": {
          "base_uri": "https://localhost:8080/"
        },
        "id": "nX4-YPbqL7fA",
        "outputId": "85db83ad-2569-47cc-efcb-ead72a0209e1"
      },
      "execution_count": 8,
      "outputs": [
        {
          "output_type": "stream",
          "name": "stdout",
          "text": [
            "True\n",
            "True\n",
            "False\n",
            "True\n"
          ]
        }
      ]
    },
    {
      "cell_type": "code",
      "source": [
        "not 10 > 2 # not V = F\n"
      ],
      "metadata": {
        "colab": {
          "base_uri": "https://localhost:8080/"
        },
        "id": "nnf18pjWLWd_",
        "outputId": "e528fa03-75fb-456f-bb03-962583b6ba2f"
      },
      "execution_count": 9,
      "outputs": [
        {
          "output_type": "execute_result",
          "data": {
            "text/plain": [
              "False"
            ]
          },
          "metadata": {},
          "execution_count": 9
        }
      ]
    },
    {
      "cell_type": "code",
      "source": [
        "not 10 < 2 # not F = V"
      ],
      "metadata": {
        "colab": {
          "base_uri": "https://localhost:8080/"
        },
        "id": "IfAugTzUNS-4",
        "outputId": "99404607-8339-4976-8da6-d9320ddfaca7"
      },
      "execution_count": 10,
      "outputs": [
        {
          "output_type": "execute_result",
          "data": {
            "text/plain": [
              "True"
            ]
          },
          "metadata": {},
          "execution_count": 10
        }
      ]
    },
    {
      "cell_type": "code",
      "source": [
        "# Variáveis\n",
        "# Variáveis são espaços alocados na memória\n",
        "\n",
        "X = 10\n",
        "Y = 20\n",
        "Z = X + Y\n",
        "print(Z)\n",
        "\n",
        "# (Variável = Valor atribuído )\n",
        "\n",
        "# Boas práticas com Variáveis\n",
        "# Não usar em multiplicação\n",
        "# Não utilizar espaços e nomes desconexos\n",
        "\n",
        "# Tipos de variáveis\n",
        "# Int(número inteiro)\n",
        "# Float(Número real)\n",
        "# String(texto)\n",
        "\n"
      ],
      "metadata": {
        "id": "uWBXPvRONYXh",
        "colab": {
          "base_uri": "https://localhost:8080/"
        },
        "outputId": "0a4c7ff8-78da-42d2-aaf7-ade12dc4bb7d"
      },
      "execution_count": 11,
      "outputs": [
        {
          "output_type": "stream",
          "name": "stdout",
          "text": [
            "30\n"
          ]
        }
      ]
    },
    {
      "cell_type": "code",
      "source": [
        "# Visualização de variáveis\n",
        "print('conhecendo o comando print')\n",
        "x = 10\n",
        "print(X)\n",
        "\n",
        "nome = 'cleiton hentges'\n",
        "print(nome,'\\n')\n",
        "\n",
        "# Contatenação\n",
        "print('meu nome é', nome,'\\n')\n",
        "print(nome, 'posssui', x ,'Reais\\n')\n",
        "\n",
        "# Formulas matematicas em print\n",
        "print('x ao quadrad é', x*x)\n"
      ],
      "metadata": {
        "colab": {
          "base_uri": "https://localhost:8080/"
        },
        "id": "f4GmNFpAXsnh",
        "outputId": "94dc556a-27c6-476a-c5cf-d52ef851c49a"
      },
      "execution_count": 12,
      "outputs": [
        {
          "output_type": "stream",
          "name": "stdout",
          "text": [
            "conhecendo o comando print\n",
            "10\n",
            "cleiton hentges \n",
            "\n",
            "meu nome é cleiton hentges \n",
            "\n",
            "cleiton hentges posssui 10 Reais\n",
            "\n",
            "x ao quadrad é 100\n"
          ]
        }
      ]
    },
    {
      "cell_type": "code",
      "source": [
        "# Exemplo de uso da função type()\n",
        "\n",
        "inteiro = 10\n",
        "real = 5.5\n",
        "texto = \"Olá\"\n",
        "lista = [1, 2, 3]\n",
        "dicionario = {\"a\": 1, \"b\": 2}\n",
        "booleano = True\n",
        "\n",
        "print(f\"O tipo da variável 'inteiro' é: {type(inteiro)}\")\n",
        "print(f\"O tipo da variável 'real' é: {type(real)}\")\n",
        "print(f\"O tipo da variável 'texto' é: {type(texto)}\")\n",
        "print(f\"O tipo da variável 'lista' é: {type(lista)}\")\n",
        "print(f\"O tipo da variável 'dicionario' é: {type(dicionario)}\")\n",
        "print(f\"O tipo da variável 'booleano' é: {type(booleano)}\")"
      ],
      "metadata": {
        "colab": {
          "base_uri": "https://localhost:8080/"
        },
        "id": "Jesf_2A2bavw",
        "outputId": "82e1b00c-f96d-4a5b-9b2c-0e9af97c71fe"
      },
      "execution_count": 13,
      "outputs": [
        {
          "output_type": "stream",
          "name": "stdout",
          "text": [
            "O tipo da variável 'inteiro' é: <class 'int'>\n",
            "O tipo da variável 'real' é: <class 'float'>\n",
            "O tipo da variável 'texto' é: <class 'str'>\n",
            "O tipo da variável 'lista' é: <class 'list'>\n",
            "O tipo da variável 'dicionario' é: <class 'dict'>\n",
            "O tipo da variável 'booleano' é: <class 'bool'>\n"
          ]
        }
      ]
    },
    {
      "cell_type": "code",
      "source": [
        "# Input\n",
        "# A função input() sempre retorna uma string, mesmo que o usuário digite um número.\n",
        "nome = input(\"Qual é o seu nome? \")\n",
        "idade = input(\"Qual é a sua idade? \")\n",
        "\n",
        "print(f\"Olá, {nome}! Você tem {idade} anos.\")\n",
        "\n",
        "# Se precisar usar o input como número, é necessário converter o tipo:\n",
        "idade_inteira = int(input(\"Digite sua idade novamente (como número): \"))\n",
        "print(f\"Sua idade como número inteiro é: {idade_inteira}\")\n",
        "\n",
        "# Exemplo com número real (float)\n",
        "altura = float(input(\"Digite sua altura em metros (ex: 1.75): \"))\n",
        "print(f\"Sua altura é: {altura} metros.\")"
      ],
      "metadata": {
        "colab": {
          "base_uri": "https://localhost:8080/"
        },
        "id": "ZbJfmBIwb4ZL",
        "outputId": "6387ac3b-356f-47eb-9be6-7f3aaf3fc6cb"
      },
      "execution_count": 14,
      "outputs": [
        {
          "output_type": "stream",
          "name": "stdout",
          "text": [
            "Qual é o seu nome? cleiton \n",
            "Qual é a sua idade? 20\n",
            "Olá, cleiton ! Você tem 20 anos.\n",
            "Digite sua idade novamente (como número): 20\n",
            "Sua idade como número inteiro é: 20\n",
            "Digite sua altura em metros (ex: 1.75): 1.72\n",
            "Sua altura é: 1.72 metros.\n"
          ]
        }
      ]
    },
    {
      "cell_type": "code",
      "source": [
        "# Conversão de tipos\n",
        "\n",
        "# Convertendo de inteiro para float\n",
        "num_inteiro = 10\n",
        "num_float = float(num_inteiro)\n",
        "print(f\"Inteiro para Float: {num_inteiro} -> {num_float} (Tipo: {type(num_float)})\")\n",
        "\n",
        "# Convertendo de float para inteiro\n",
        "num_float2 = 15.7\n",
        "num_inteiro2 = int(num_float2)\n",
        "print(f\"Float para Inteiro: {num_float2} -> {num_inteiro2} (Tipo: {type(num_inteiro2)})\")\n",
        "\n",
        "# Convertendo de número para string\n",
        "num = 100\n",
        "num_string = str(num)\n",
        "print(f\"Número para String: {num} -> '{num_string}' (Tipo: {type(num_string)})\")\n",
        "\n",
        "# Convertendo de string para número (se possível)\n",
        "string_num = \"123\"\n",
        "num_de_string = int(string_num)\n",
        "print(f\"String para Inteiro: '{string_num}' -> {num_de_string} (Tipo: {type(num_de_string)})\")\n",
        "\n",
        "string_float = \"98.6\"\n",
        "float_de_string = float(string_float)\n",
        "print(f\"String para Float: '{string_float}' -> {float_de_string} (Tipo: {type(float_de_string)})\")\n",
        "\n",
        "# Exemplo de erro ao converter string não numérica para número\n",
        "# string_invalida = \"Olá\"\n",
        "# num_invalido = int(string_invalida) # Isso causaria um ValueError\n",
        "# print(f\"Tentativa de String inválida para Inteiro: '{string_invalida}' -> {num_invalido}\")"
      ],
      "metadata": {
        "colab": {
          "base_uri": "https://localhost:8080/"
        },
        "id": "XS_pB29ucprq",
        "outputId": "d816038a-af96-4f1c-fdfd-b544e03646f7"
      },
      "execution_count": 15,
      "outputs": [
        {
          "output_type": "stream",
          "name": "stdout",
          "text": [
            "Inteiro para Float: 10 -> 10.0 (Tipo: <class 'float'>)\n",
            "Float para Inteiro: 15.7 -> 15 (Tipo: <class 'int'>)\n",
            "Número para String: 100 -> '100' (Tipo: <class 'str'>)\n",
            "String para Inteiro: '123' -> 123 (Tipo: <class 'int'>)\n",
            "String para Float: '98.6' -> 98.6 (Tipo: <class 'float'>)\n"
          ]
        }
      ]
    },
    {
      "cell_type": "code",
      "source": [
        "# IF, Else, Elif\n",
        "if 5 < 10:\n",
        "    print(\"5 é menor que 10\")\n",
        "if 5 > 10:\n",
        "    print(\"5 é maior que 10\")\n",
        "else:\n",
        "    print(\"5 não é maior que 10\")\n",
        "\n",
        "# Condicionais If , Else, Elif\n",
        "# Atuam gerando caminhinhos lógicos que desempenham uma função de escolha ocasionadas."
      ],
      "metadata": {
        "colab": {
          "base_uri": "https://localhost:8080/"
        },
        "id": "YRmezf93dqrb",
        "outputId": "491c65f6-b5af-43f6-ad54-d43879c4092f"
      },
      "execution_count": 16,
      "outputs": [
        {
          "output_type": "stream",
          "name": "stdout",
          "text": [
            "5 é menor que 10\n",
            "5 não é maior que 10\n"
          ]
        }
      ]
    },
    {
      "cell_type": "code",
      "source": [
        "# Exemplo de condicionais com operadores lógicos e elif\n",
        "\n",
        "idade = 25\n",
        "tem_habilitacao = True\n",
        "\n",
        "# Usando 'and' com elif\n",
        "if idade >= 18 and tem_habilitacao:\n",
        "    print(\"Você pode dirigir.\")\n",
        "elif idade >= 18 and not tem_habilitacao:\n",
        "    print(\"Você tem idade para dirigir, mas precisa da habilitação.\")\n",
        "else:\n",
        "    print(\"Você não pode dirigir.\")\n",
        "\n",
        "print(\"-\" * 20) # Separador\n",
        "\n",
        "# Usando 'or' com elif\n",
        "tem_dinheiro = False\n",
        "tem_cartao = True\n",
        "tem_pix = True\n",
        "\n",
        "if tem_dinheiro or tem_cartao:\n",
        "    print(\"Você pode fazer a compra com dinheiro ou cartão.\")\n",
        "elif tem_pix:\n",
        "    print(\"Você pode fazer a compra com pix.\")\n",
        "else:\n",
        "    print(\"Você não pode fazer a compra.\")\n",
        "\n",
        "\n",
        "print(\"-\" * 20) # Separador\n",
        "\n",
        "# Usando 'not' com elif\n",
        "esta_chovendo = False\n",
        "esta_nublado = True\n",
        "\n",
        "if not esta_chovendo:\n",
        "    print(\"Você pode sair sem guarda-chuva.\")\n",
        "elif esta_nublado:\n",
        "    print(\"Pode ser bom levar um guarda-chuva por precaução.\")\n",
        "else:\n",
        "    print(\"Leve um guarda-chuva.\")\n",
        "\n",
        "\n",
        "print(\"-\" * 20) # Separador\n",
        "\n",
        "# Combinando operadores com elif\n",
        "tem_passagem = True\n",
        "destino_seguro = False\n",
        "tem_visto = True\n",
        "\n",
        "if tem_passagem and (destino_seguro or tem_dinheiro):\n",
        "    print(\"Você pode viajar.\")\n",
        "elif tem_passagem and tem_visto:\n",
        "    print(\"Você pode viajar, mas verifique as condições de segurança do destino.\")\n",
        "else:\n",
        "    print(\"Você não pode viajar.\")"
      ],
      "metadata": {
        "colab": {
          "base_uri": "https://localhost:8080/"
        },
        "id": "3uR2c716cxaR",
        "outputId": "a262815c-d91f-4406-9ce7-38092fb3272e"
      },
      "execution_count": 17,
      "outputs": [
        {
          "output_type": "stream",
          "name": "stdout",
          "text": [
            "Você pode dirigir.\n",
            "--------------------\n",
            "Você pode fazer a compra com dinheiro ou cartão.\n",
            "--------------------\n",
            "Você pode sair sem guarda-chuva.\n",
            "--------------------\n",
            "Você pode viajar, mas verifique as condições de segurança do destino.\n"
          ]
        }
      ]
    },
    {
      "cell_type": "markdown",
      "source": [
        "## Listas, Tuplas e Dicionários em Python\n",
        "\n",
        "Em Python, Listas, Tuplas e Dicionários são estruturas de dados fundamentais usadas para armazenar coleções de itens. Cada uma tem características e usos específicos.\n",
        "\n",
        "### Listas (`list`)\n",
        "\n",
        "*   **O que são:** Listas são coleções ordenadas e mutáveis de itens. Isso significa que a ordem dos itens é mantida e você pode adicionar, remover ou modificar elementos após a criação da lista.\n",
        "*   **Sintaxe:** São definidas usando colchetes `[]`.\n",
        "*   **Exemplo:** `minha_lista = [1, \"banana\", 3.14, True]`\n",
        "*   **Razões de uso:**\n",
        "    *   Quando você precisa de uma coleção de itens onde a ordem importa e você precisa modificar a coleção frequentemente (adicionar, remover, alterar elementos).\n",
        "    *   Para armazenar uma sequência de itens do mesmo tipo ou de tipos diferentes.\n",
        "*   **Regras:**\n",
        "    *   Os itens são indexados a partir de 0.\n",
        "    *   Permitem itens duplicados.\n",
        "    *   São mutáveis (podem ser alteradas após a criação).\n",
        "\n",
        "### Tuplas (`tuple`)\n",
        "\n",
        "*   **O que são:** Tuplas são coleções ordenadas e imutáveis de itens. Uma vez criada, uma tupla não pode ser alterada (você não pode adicionar, remover ou modificar elementos).\n",
        "*   **Sintaxe:** São definidas usando parênteses `()`.\n",
        "*   **Exemplo:** `minha_tupla = (10, \"maçã\", False)`\n",
        "*   **Razões de uso:**\n",
        "    *   Quando você tem uma coleção de itens que não deve ser alterada durante a execução do programa.\n",
        "    *   Para garantir a integridade dos dados em uma coleção.\n",
        "    *   Retornar múltiplos valores de uma função.\n",
        "*   **Regras:**\n",
        "    *   Os itens são indexados a partir de 0.\n",
        "    *   Permitem itens duplicados.\n",
        "    *   São imutáveis (não podem ser alteradas após a criação).\n",
        "\n",
        "### Dicionários (`dict`)\n",
        "\n",
        "*   **O que são:** Dicionários são coleções não ordenadas e mutáveis de pares chave-valor. Cada item em um dicionário é um par chave:valor, onde cada chave deve ser única.\n",
        "*   **Sintaxe:** São definidas usando chaves `{}` com pares chave:valor separados por vírgulas.\n",
        "*   **Exemplo:** `meu_dicionario = {\"nome\": \"Ana\", \"idade\": 30, \"cidade\": \"São Paulo\"}`\n",
        "*   **Razões de uso:**\n",
        "    *   Quando você precisa armazenar dados em pares onde cada valor está associado a uma chave única.\n",
        "    *   Para representar objetos ou estruturas de dados com propriedades nomeadas.\n",
        "    *   Para buscas rápidas de valores baseadas em chaves.\n",
        "*   **Regras:**\n",
        "    *   As chaves devem ser únicas e imutáveis (geralmente strings, números ou tuplas).\n",
        "    *   Os valores podem ser de qualquer tipo de dado e podem ser duplicados.\n",
        "    *   São mutáveis (você pode adicionar, remover ou modificar pares chave-valor).\n",
        "    *   A ordem dos itens em dicionários é garantida a partir do Python 3.7.\n",
        "\n",
        "Em resumo:\n",
        "\n",
        "*   Use **Listas** quando precisar de uma coleção ordenada e mutável.\n",
        "*   Use **Tuplas** quando precisar de uma coleção ordenada e imutável.\n",
        "*   Use **Dicionários** quando precisar armazenar dados como pares chave-valor para acesso rápido por chave."
      ],
      "metadata": {
        "id": "IWzt0ZTE2INN"
      }
    },
    {
      "cell_type": "markdown",
      "metadata": {
        "id": "60fe3bd3"
      },
      "source": [
        "### Exemplos de Listas, Tuplas e Dicionários"
      ]
    },
    {
      "cell_type": "code",
      "metadata": {
        "colab": {
          "base_uri": "https://localhost:8080/"
        },
        "id": "71120c73",
        "outputId": "f2f203f6-79c1-4965-8972-789562023043"
      },
      "source": [
        "#Exemplo de Lista\n",
        "print(\"Exemplo de Lista\")\n",
        "minha_lista = [1, \"banana\", 3.14, True, 1]\n",
        "print(f\"Lista original: {minha_lista}\")\n",
        "print(f\"Tipo da variável: {type(minha_lista)}\")\n",
        "\n",
        "# Acessando elementos pelo índice (lembre-se que o índice começa em 0)\n",
        "print(f\"Primeiro elemento: {minha_lista[0]}\")\n",
        "print(f\"Terceiro elemento: {minha_lista[2]}\")\n",
        "\n",
        "# Modificando um elemento\n",
        "minha_lista[1] = \"laranja\"\n",
        "print(f\"Lista após modificação: {minha_lista}\")\n",
        "\n",
        "# Adicionando um elemento\n",
        "minha_lista.append(\"abacaxi\")\n",
        "print(f\"Lista após adicionar elemento: {minha_lista}\")\n",
        "\n",
        "# Removendo um elemento\n",
        "minha_lista.remove(3.14)\n",
        "print(f\"Lista após remover elemento: {minha_lista}\")\n",
        "\n",
        "# Tamanho da lista\n",
        "print(f\"Tamanho da lista: {len(minha_lista)}\")"
      ],
      "execution_count": 18,
      "outputs": [
        {
          "output_type": "stream",
          "name": "stdout",
          "text": [
            "Exemplo de Lista\n",
            "Lista original: [1, 'banana', 3.14, True, 1]\n",
            "Tipo da variável: <class 'list'>\n",
            "Primeiro elemento: 1\n",
            "Terceiro elemento: 3.14\n",
            "Lista após modificação: [1, 'laranja', 3.14, True, 1]\n",
            "Lista após adicionar elemento: [1, 'laranja', 3.14, True, 1, 'abacaxi']\n",
            "Lista após remover elemento: [1, 'laranja', True, 1, 'abacaxi']\n",
            "Tamanho da lista: 5\n"
          ]
        }
      ]
    },
    {
      "cell_type": "code",
      "metadata": {
        "colab": {
          "base_uri": "https://localhost:8080/"
        },
        "id": "b67170ca",
        "outputId": "6344e8b6-76e6-49d9-f0bd-842a861941be"
      },
      "source": [
        "# --- Exemplo de Tupla ---\n",
        "print(\"\\n--- Exemplo de Tupla ---\")\n",
        "minha_tupla = (10, \"maçã\", False, 10)\n",
        "print(f\"Tupla original: {minha_tupla}\")\n",
        "print(f\"Tipo da variável: {type(minha_tupla)}\")\n",
        "\n",
        "# Acessando elementos pelo índice\n",
        "print(f\"Primeiro elemento: {minha_tupla[0]}\")\n",
        "print(f\"Segundo elemento: {minha_tupla[1]}\")\n",
        "\n",
        "# Tentativa de modificar um elemento (isso geraria um erro, pois tuplas são imutáveis)\n",
        "# minha_tupla[0] = 20 # Descomente para ver o erro\n",
        "\n",
        "# Tamanho da tupla\n",
        "print(f\"Tamanho da tupla: {len(minha_tupla)}\")"
      ],
      "execution_count": 19,
      "outputs": [
        {
          "output_type": "stream",
          "name": "stdout",
          "text": [
            "\n",
            "--- Exemplo de Tupla ---\n",
            "Tupla original: (10, 'maçã', False, 10)\n",
            "Tipo da variável: <class 'tuple'>\n",
            "Primeiro elemento: 10\n",
            "Segundo elemento: maçã\n",
            "Tamanho da tupla: 4\n"
          ]
        }
      ]
    },
    {
      "cell_type": "code",
      "metadata": {
        "colab": {
          "base_uri": "https://localhost:8080/"
        },
        "id": "f1717f34",
        "outputId": "860c1d1f-48ba-4822-aefb-94ee57477432"
      },
      "source": [
        "# --- Exemplo de Dicionário ---\n",
        "print(\"\\n--- Exemplo de Dicionário ---\")\n",
        "meu_dicionario = {\"nome\": \"Ana\", \"idade\": 30, \"cidade\": \"São Paulo\"}\n",
        "print(f\"Dicionário original: {meu_dicionario}\")\n",
        "print(f\"Tipo da variável: {type(meu_dicionario)}\")\n",
        "\n",
        "# Acessando valores por chave\n",
        "print(f\"Nome: {meu_dicionario['nome']}\")\n",
        "print(f\"Idade: {meu_dicionario['idade']}\")\n",
        "\n",
        "# Modificando um valor\n",
        "meu_dicionario['idade'] = 31\n",
        "print(f\"Dicionário após modificação: {meu_dicionario}\")\n",
        "\n",
        "# Adicionando um novo par chave-valor\n",
        "meu_dicionario['profissão'] = 'Engenheira'\n",
        "print(f\"Dicionário após adicionar elemento: {meu_dicionario}\")\n",
        "\n",
        "# Removendo um par chave-valor\n",
        "del meu_dicionario['cidade']\n",
        "print(f\"Dicionário após remover elemento: {meu_dicionario}\")\n",
        "\n",
        "# Tamanho do dicionário (número de pares chave-valor)\n",
        "print(f\"Tamanho do dicionário: {len(meu_dicionario)}\")"
      ],
      "execution_count": 20,
      "outputs": [
        {
          "output_type": "stream",
          "name": "stdout",
          "text": [
            "\n",
            "--- Exemplo de Dicionário ---\n",
            "Dicionário original: {'nome': 'Ana', 'idade': 30, 'cidade': 'São Paulo'}\n",
            "Tipo da variável: <class 'dict'>\n",
            "Nome: Ana\n",
            "Idade: 30\n",
            "Dicionário após modificação: {'nome': 'Ana', 'idade': 31, 'cidade': 'São Paulo'}\n",
            "Dicionário após adicionar elemento: {'nome': 'Ana', 'idade': 31, 'cidade': 'São Paulo', 'profissão': 'Engenheira'}\n",
            "Dicionário após remover elemento: {'nome': 'Ana', 'idade': 31, 'profissão': 'Engenheira'}\n",
            "Tamanho do dicionário: 3\n"
          ]
        }
      ]
    },
    {
      "cell_type": "code",
      "source": [
        "#Estrutura de repetições\n",
        "# For (variável) in (coleção)\n",
        "    #(comando)\n",
        "\n",
        "    #formas de repetição = range, simples e enumerte.\n",
        "\n",
        "for contador in range(10):\n",
        "    print(contador)"
      ],
      "metadata": {
        "colab": {
          "base_uri": "https://localhost:8080/"
        },
        "id": "NGJK5bIK3WFl",
        "outputId": "ed55f211-2ac9-480e-8226-bc0e4575f4c6"
      },
      "execution_count": 21,
      "outputs": [
        {
          "output_type": "stream",
          "name": "stdout",
          "text": [
            "0\n",
            "1\n",
            "2\n",
            "3\n",
            "4\n",
            "5\n",
            "6\n",
            "7\n",
            "8\n",
            "9\n"
          ]
        }
      ]
    },
    {
      "cell_type": "code",
      "source": [
        "for contador in range(1000):      # Break é o delimitante da contagem\n",
        "    print(contador)\n",
        "    if contador == 10:\n",
        "        break\n",
        "\n"
      ],
      "metadata": {
        "colab": {
          "base_uri": "https://localhost:8080/"
        },
        "id": "YgR7zzhz4VPY",
        "outputId": "7330ec06-69f3-4c33-fb12-926c1578fdc1"
      },
      "execution_count": 22,
      "outputs": [
        {
          "output_type": "stream",
          "name": "stdout",
          "text": [
            "0\n",
            "1\n",
            "2\n",
            "3\n",
            "4\n",
            "5\n",
            "6\n",
            "7\n",
            "8\n",
            "9\n",
            "10\n"
          ]
        }
      ]
    },
    {
      "cell_type": "code",
      "source": [
        "#for com enumerate\n",
        "lista = [\"A\",\"B\",\"C\",\"D\",\"E\"]\n",
        "\n",
        "for i, val in enumerate(lista):\n",
        "    print(i, val)\n"
      ],
      "metadata": {
        "colab": {
          "base_uri": "https://localhost:8080/"
        },
        "id": "lu02IBMX49Nd",
        "outputId": "26cd1641-fb6b-4268-e439-68d3bc2edbcc"
      },
      "execution_count": 23,
      "outputs": [
        {
          "output_type": "stream",
          "name": "stdout",
          "text": [
            "0 A\n",
            "1 B\n",
            "2 C\n",
            "3 D\n",
            "4 E\n"
          ]
        }
      ]
    },
    {
      "cell_type": "code",
      "source": [
        "#FOR, OPERADORES COMPOSTOS\n",
        "total = 0\n",
        "for numero in range(1, 6): # Itera de 1 a 5\n",
        "    total += numero       # Equivalente a total = total + numero\n",
        "    print(f\"Somando {numero}, total atual: {total}\")\n",
        "\n",
        "print(f\"\\nSoma final: {total}\")\n"
      ],
      "metadata": {
        "colab": {
          "base_uri": "https://localhost:8080/"
        },
        "id": "8KgW1uIW6FFW",
        "outputId": "2692eba4-6911-47c6-a20b-09cc8c0aa7ac"
      },
      "execution_count": 24,
      "outputs": [
        {
          "output_type": "stream",
          "name": "stdout",
          "text": [
            "Somando 1, total atual: 1\n",
            "Somando 2, total atual: 3\n",
            "Somando 3, total atual: 6\n",
            "Somando 4, total atual: 10\n",
            "Somando 5, total atual: 15\n",
            "\n",
            "Soma final: 15\n"
          ]
        }
      ]
    },
    {
      "cell_type": "code",
      "source": [
        "#WHILE\n",
        "#ESTRUTURA DE REPETIÇÃO\n",
        "  #EXECUTAR COMANDOS ENQUANTO UMA CONDIÇÃO FOR VERDADEIRA\n",
        "\n",
        "  #WHILE (CONDIÇÃO):   --->  #WHILE (CONDIÇÃO):\n",
        "      #(COMANDOS)                 #(1 COMANDOS)\n",
        "                                #ELSE\n",
        "                                  #(2 COMANDOS)\n",
        "\n",
        "# Exemplo de loop while\n",
        "contador = 0\n",
        "while contador <= 5:\n",
        "    print(f\"Contador: {contador}\")\n",
        "    contador += 1 # É crucial atualizar a variável da condição para evitar um loop infinito\n",
        "\n",
        "print(\"Loop while finalizado.\")"
      ],
      "metadata": {
        "colab": {
          "base_uri": "https://localhost:8080/"
        },
        "id": "sXLktr7R73oP",
        "outputId": "69450a4f-48ed-4a41-e467-02aa74036eb2"
      },
      "execution_count": 25,
      "outputs": [
        {
          "output_type": "stream",
          "name": "stdout",
          "text": [
            "Contador: 0\n",
            "Contador: 1\n",
            "Contador: 2\n",
            "Contador: 3\n",
            "Contador: 4\n",
            "Contador: 5\n",
            "Loop while finalizado.\n"
          ]
        }
      ]
    }
  ]
}